{
  "cells": [
    {
      "cell_type": "code",
      "execution_count": 1,
      "metadata": {
        "id": "Al9uNLTbxtwB"
      },
      "outputs": [],
      "source": [
        "import pandas as pd\n",
        "import ast\n",
        "import numpy as np\n",
        "import json"
      ]
    },
    {
      "cell_type": "code",
      "execution_count": 2,
      "metadata": {},
      "outputs": [
        {
          "name": "stdout",
          "output_type": "stream",
          "text": [
            "c:\\Users\\Pc - Jujuy\\Desktop\\proyercto individual23\\PI_ML_OPS\n"
          ]
        }
      ],
      "source": [
        "import os\n",
        "print(os.getcwd())"
      ]
    },
    {
      "cell_type": "code",
      "execution_count": 3,
      "metadata": {},
      "outputs": [
        {
          "name": "stderr",
          "output_type": "stream",
          "text": [
            "C:\\Users\\Pc - Jujuy\\AppData\\Roaming\\Python\\Python38\\site-packages\\IPython\\core\\interactiveshell.py:3508: DtypeWarning: Columns (10) have mixed types.Specify dtype option on import or set low_memory=False.\n",
            "  exec(code_obj, self.user_global_ns, self.user_ns)\n"
          ]
        }
      ],
      "source": [
        "# Leer el archivo \n",
        "file_path = \"movies_dataset.csv\"\n",
        "df_raw1 = pd.read_csv(file_path)\n"
      ]
    },
    {
      "cell_type": "code",
      "execution_count": 4,
      "metadata": {
        "colab": {
          "base_uri": "https://localhost:8080/"
        },
        "id": "P9axMM_mySOt",
        "outputId": "a62d85cf-445a-41db-d976-2d6f1b02ea77"
      },
      "outputs": [
        {
          "name": "stdout",
          "output_type": "stream",
          "text": [
            "0    [{'id': 16, 'name': 'Animation'}, {'id': 35, '...\n",
            "1    [{'id': 12, 'name': 'Adventure'}, {'id': 14, '...\n",
            "2    [{'id': 10749, 'name': 'Romance'}, {'id': 35, ...\n",
            "3    [{'id': 35, 'name': 'Comedy'}, {'id': 18, 'nam...\n",
            "4                       [{'id': 35, 'name': 'Comedy'}]\n",
            "Name: genres, dtype: object\n"
          ]
        }
      ],
      "source": [
        "print(df_raw1['genres'].head())"
      ]
    },
    {
      "cell_type": "code",
      "execution_count": 5,
      "metadata": {
        "colab": {
          "base_uri": "https://localhost:8080/",
          "height": 261
        },
        "id": "wFzEPTHdydMn",
        "outputId": "aa3f156c-87c7-4419-dd1a-43b46301254b"
      },
      "outputs": [
        {
          "data": {
            "text/html": [
              "<div>\n",
              "<style scoped>\n",
              "    .dataframe tbody tr th:only-of-type {\n",
              "        vertical-align: middle;\n",
              "    }\n",
              "\n",
              "    .dataframe tbody tr th {\n",
              "        vertical-align: top;\n",
              "    }\n",
              "\n",
              "    .dataframe thead th {\n",
              "        text-align: right;\n",
              "    }\n",
              "</style>\n",
              "<table border=\"1\" class=\"dataframe\">\n",
              "  <thead>\n",
              "    <tr style=\"text-align: right;\">\n",
              "      <th></th>\n",
              "      <th>adult</th>\n",
              "      <th>belongs_to_collection</th>\n",
              "      <th>budget</th>\n",
              "      <th>genres</th>\n",
              "      <th>homepage</th>\n",
              "      <th>id</th>\n",
              "      <th>imdb_id</th>\n",
              "      <th>original_language</th>\n",
              "      <th>original_title</th>\n",
              "      <th>overview</th>\n",
              "      <th>...</th>\n",
              "      <th>release_date</th>\n",
              "      <th>revenue</th>\n",
              "      <th>runtime</th>\n",
              "      <th>spoken_languages</th>\n",
              "      <th>status</th>\n",
              "      <th>tagline</th>\n",
              "      <th>title</th>\n",
              "      <th>video</th>\n",
              "      <th>vote_average</th>\n",
              "      <th>vote_count</th>\n",
              "    </tr>\n",
              "  </thead>\n",
              "  <tbody>\n",
              "    <tr>\n",
              "      <th>0</th>\n",
              "      <td>False</td>\n",
              "      <td>Toy Story Collection</td>\n",
              "      <td>30000000</td>\n",
              "      <td>[{'id': 16, 'name': 'Animation'}, {'id': 35, '...</td>\n",
              "      <td>http://toystory.disney.com/toy-story</td>\n",
              "      <td>862</td>\n",
              "      <td>tt0114709</td>\n",
              "      <td>en</td>\n",
              "      <td>Toy Story</td>\n",
              "      <td>Led by Woody, Andy's toys live happily in his ...</td>\n",
              "      <td>...</td>\n",
              "      <td>1995-10-30</td>\n",
              "      <td>373554033.0</td>\n",
              "      <td>81.0</td>\n",
              "      <td>[{'iso_639_1': 'en', 'name': 'English'}]</td>\n",
              "      <td>Released</td>\n",
              "      <td>NaN</td>\n",
              "      <td>Toy Story</td>\n",
              "      <td>False</td>\n",
              "      <td>7.7</td>\n",
              "      <td>5415.0</td>\n",
              "    </tr>\n",
              "  </tbody>\n",
              "</table>\n",
              "<p>1 rows × 24 columns</p>\n",
              "</div>"
            ],
            "text/plain": [
              "   adult belongs_to_collection    budget  \\\n",
              "0  False  Toy Story Collection  30000000   \n",
              "\n",
              "                                              genres  \\\n",
              "0  [{'id': 16, 'name': 'Animation'}, {'id': 35, '...   \n",
              "\n",
              "                               homepage   id    imdb_id original_language  \\\n",
              "0  http://toystory.disney.com/toy-story  862  tt0114709                en   \n",
              "\n",
              "  original_title                                           overview  ...  \\\n",
              "0      Toy Story  Led by Woody, Andy's toys live happily in his ...  ...   \n",
              "\n",
              "  release_date      revenue  runtime  \\\n",
              "0   1995-10-30  373554033.0     81.0   \n",
              "\n",
              "                           spoken_languages    status  tagline      title  \\\n",
              "0  [{'iso_639_1': 'en', 'name': 'English'}]  Released      NaN  Toy Story   \n",
              "\n",
              "   video vote_average vote_count  \n",
              "0  False          7.7     5415.0  \n",
              "\n",
              "[1 rows x 24 columns]"
            ]
          },
          "execution_count": 5,
          "metadata": {},
          "output_type": "execute_result"
        }
      ],
      "source": [
        "df_raw1.head(1)"
      ]
    },
    {
      "cell_type": "code",
      "execution_count": 6,
      "metadata": {
        "colab": {
          "base_uri": "https://localhost:8080/",
          "height": 261
        },
        "id": "4_BxDf8v4M7f",
        "outputId": "77de29f8-320e-49fd-c794-eef61fe90597"
      },
      "outputs": [
        {
          "data": {
            "text/html": [
              "<div>\n",
              "<style scoped>\n",
              "    .dataframe tbody tr th:only-of-type {\n",
              "        vertical-align: middle;\n",
              "    }\n",
              "\n",
              "    .dataframe tbody tr th {\n",
              "        vertical-align: top;\n",
              "    }\n",
              "\n",
              "    .dataframe thead th {\n",
              "        text-align: right;\n",
              "    }\n",
              "</style>\n",
              "<table border=\"1\" class=\"dataframe\">\n",
              "  <thead>\n",
              "    <tr style=\"text-align: right;\">\n",
              "      <th></th>\n",
              "      <th>adult</th>\n",
              "      <th>belongs_to_collection</th>\n",
              "      <th>budget</th>\n",
              "      <th>genres</th>\n",
              "      <th>homepage</th>\n",
              "      <th>id</th>\n",
              "      <th>imdb_id</th>\n",
              "      <th>original_language</th>\n",
              "      <th>original_title</th>\n",
              "      <th>overview</th>\n",
              "      <th>...</th>\n",
              "      <th>release_date</th>\n",
              "      <th>revenue</th>\n",
              "      <th>runtime</th>\n",
              "      <th>spoken_languages</th>\n",
              "      <th>status</th>\n",
              "      <th>tagline</th>\n",
              "      <th>title</th>\n",
              "      <th>video</th>\n",
              "      <th>vote_average</th>\n",
              "      <th>vote_count</th>\n",
              "    </tr>\n",
              "  </thead>\n",
              "  <tbody>\n",
              "    <tr>\n",
              "      <th>0</th>\n",
              "      <td>False</td>\n",
              "      <td>Toy Story Collection</td>\n",
              "      <td>30000000</td>\n",
              "      <td>[{'id': 16, 'name': 'Animation'}, {'id': 35, '...</td>\n",
              "      <td>http://toystory.disney.com/toy-story</td>\n",
              "      <td>862</td>\n",
              "      <td>tt0114709</td>\n",
              "      <td>en</td>\n",
              "      <td>Toy Story</td>\n",
              "      <td>Led by Woody, Andy's toys live happily in his ...</td>\n",
              "      <td>...</td>\n",
              "      <td>1995-10-30</td>\n",
              "      <td>373554033.0</td>\n",
              "      <td>81.0</td>\n",
              "      <td>[{'iso_639_1': 'en', 'name': 'English'}]</td>\n",
              "      <td>Released</td>\n",
              "      <td>NaN</td>\n",
              "      <td>Toy Story</td>\n",
              "      <td>False</td>\n",
              "      <td>7.7</td>\n",
              "      <td>5415.0</td>\n",
              "    </tr>\n",
              "  </tbody>\n",
              "</table>\n",
              "<p>1 rows × 24 columns</p>\n",
              "</div>"
            ],
            "text/plain": [
              "   adult belongs_to_collection    budget  \\\n",
              "0  False  Toy Story Collection  30000000   \n",
              "\n",
              "                                              genres  \\\n",
              "0  [{'id': 16, 'name': 'Animation'}, {'id': 35, '...   \n",
              "\n",
              "                               homepage   id    imdb_id original_language  \\\n",
              "0  http://toystory.disney.com/toy-story  862  tt0114709                en   \n",
              "\n",
              "  original_title                                           overview  ...  \\\n",
              "0      Toy Story  Led by Woody, Andy's toys live happily in his ...  ...   \n",
              "\n",
              "  release_date      revenue  runtime  \\\n",
              "0   1995-10-30  373554033.0     81.0   \n",
              "\n",
              "                           spoken_languages    status  tagline      title  \\\n",
              "0  [{'iso_639_1': 'en', 'name': 'English'}]  Released      NaN  Toy Story   \n",
              "\n",
              "   video vote_average vote_count  \n",
              "0  False          7.7     5415.0  \n",
              "\n",
              "[1 rows x 24 columns]"
            ]
          },
          "execution_count": 6,
          "metadata": {},
          "output_type": "execute_result"
        }
      ],
      "source": [
        "df_raw1.head(1)"
      ]
    },
    {
      "cell_type": "code",
      "execution_count": 7,
      "metadata": {
        "colab": {
          "base_uri": "https://localhost:8080/"
        },
        "id": "x7HFCdnW5PaR",
        "outputId": "d93c47b7-11ff-4fda-be34-47e765a50dad"
      },
      "outputs": [
        {
          "data": {
            "text/plain": [
              "array(['adult', 'belongs_to_collection', 'budget', 'genres', 'homepage',\n",
              "       'id', 'imdb_id', 'original_language', 'original_title', 'overview',\n",
              "       'popularity', 'poster_path', 'production_companies',\n",
              "       'production_countries', 'release_date', 'revenue', 'runtime',\n",
              "       'spoken_languages', 'status', 'tagline', 'title', 'video',\n",
              "       'vote_average', 'vote_count'], dtype=object)"
            ]
          },
          "execution_count": 7,
          "metadata": {},
          "output_type": "execute_result"
        }
      ],
      "source": [
        "columns_names = df_raw1.columns.values\n",
        "columns_names"
      ]
    },
    {
      "cell_type": "code",
      "execution_count": 8,
      "metadata": {
        "id": "FDFcWAc3Dt56"
      },
      "outputs": [],
      "source": [
        "# define columns with data of dict type to process\n",
        "cols = ['genres']"
      ]
    },
    {
      "cell_type": "code",
      "execution_count": 9,
      "metadata": {
        "colab": {
          "base_uri": "https://localhost:8080/"
        },
        "id": "B-vaoNdkDtxU",
        "outputId": "4f9a94e5-6928-43d9-f902-d38001aa61fd"
      },
      "outputs": [
        {
          "data": {
            "text/plain": [
              "(45466,)"
            ]
          },
          "execution_count": 9,
          "metadata": {},
          "output_type": "execute_result"
        }
      ],
      "source": [
        "s = df_raw1[cols[0]].copy()\n",
        "s.shape"
      ]
    },
    {
      "cell_type": "code",
      "execution_count": 10,
      "metadata": {
        "colab": {
          "base_uri": "https://localhost:8080/",
          "height": 35
        },
        "id": "FEW3x-joDtn0",
        "outputId": "5fc3e85d-42df-4c5a-df1f-f82b1c74cc07"
      },
      "outputs": [
        {
          "data": {
            "text/plain": [
              "\"[{'id': 16, 'name': 'Animation'}, {'id': 35, 'name': 'Comedy'}, {'id': 10751, 'name': 'Family'}]\""
            ]
          },
          "execution_count": 10,
          "metadata": {},
          "output_type": "execute_result"
        }
      ],
      "source": [
        "s[0]"
      ]
    },
    {
      "cell_type": "code",
      "execution_count": 11,
      "metadata": {
        "colab": {
          "base_uri": "https://localhost:8080/"
        },
        "id": "lQyAXSmmDtdh",
        "outputId": "723960c8-908f-4170-ecd9-1b4dec58a589"
      },
      "outputs": [
        {
          "data": {
            "text/plain": [
              "[{'id': 16, 'name': 'Animation'},\n",
              " {'id': 35, 'name': 'Comedy'},\n",
              " {'id': 10751, 'name': 'Family'}]"
            ]
          },
          "execution_count": 11,
          "metadata": {},
          "output_type": "execute_result"
        }
      ],
      "source": [
        "# evaluate as a list\n",
        "l = ast.literal_eval(s[0])\n",
        "l"
      ]
    },
    {
      "cell_type": "code",
      "execution_count": 12,
      "metadata": {
        "id": "45qg_0AFDtNj"
      },
      "outputs": [],
      "source": [
        "# copy one column to a pandas series\n",
        "s = df_raw1[cols[0]].copy()\n",
        "# fillna with [None]\n",
        "s.fillna('[{}]', inplace=True)\n",
        "\n",
        "l = []  # init an empty list\n",
        "\n",
        "for i in s:\n",
        "    if i == [{}]:\n",
        "        # append [{}] to the list\n",
        "        l += i\n",
        "    else:\n",
        "        # evaluate as a list\n",
        "        l += ast.literal_eval(i)"
      ]
    },
    {
      "cell_type": "code",
      "execution_count": 13,
      "metadata": {
        "colab": {
          "base_uri": "https://localhost:8080/"
        },
        "id": "wb1iauIMEwXW",
        "outputId": "89201aa0-dc20-42d5-e06a-a2133613e2f5"
      },
      "outputs": [
        {
          "data": {
            "text/plain": [
              "91106"
            ]
          },
          "execution_count": 13,
          "metadata": {},
          "output_type": "execute_result"
        }
      ],
      "source": [
        "len(l)"
      ]
    },
    {
      "cell_type": "code",
      "execution_count": 14,
      "metadata": {
        "colab": {
          "base_uri": "https://localhost:8080/"
        },
        "id": "7wywkANmEwKB",
        "outputId": "0061a594-c044-4d61-e3c4-646f69db0bf9"
      },
      "outputs": [
        {
          "data": {
            "text/plain": [
              "[{'id': 16, 'name': 'Animation'},\n",
              " {'id': 35, 'name': 'Comedy'},\n",
              " {'id': 10751, 'name': 'Family'},\n",
              " {'id': 12, 'name': 'Adventure'},\n",
              " {'id': 14, 'name': 'Fantasy'},\n",
              " {'id': 10751, 'name': 'Family'},\n",
              " {'id': 10749, 'name': 'Romance'},\n",
              " {'id': 35, 'name': 'Comedy'},\n",
              " {'id': 35, 'name': 'Comedy'},\n",
              " {'id': 18, 'name': 'Drama'}]"
            ]
          },
          "execution_count": 14,
          "metadata": {},
          "output_type": "execute_result"
        }
      ],
      "source": [
        "l[:10]"
      ]
    },
    {
      "cell_type": "code",
      "execution_count": 15,
      "metadata": {
        "id": "yBUxqjdIFNXD"
      },
      "outputs": [],
      "source": [
        "def to_list_of_dict(series):\n",
        "    \"\"\"\n",
        "    Evaluate a pandas series as a list of dict\n",
        "\n",
        "    Input:\n",
        "    \"[{'one': 1, 'two': 2, 'three': 3}]\"\n",
        "\n",
        "    Output:\n",
        "    [{'one': 1,\n",
        "      'two': 2,\n",
        "      'three' : 3}]\n",
        "    \"\"\"\n",
        "    l = []  # init an empty list\n",
        "    s = series.fillna('[{}]')  # map nan to [{}] for further eval\n",
        "\n",
        "    # loop through the whole series\n",
        "    for i in s:\n",
        "        if i == [{}]:\n",
        "            # append [{}] to the list\n",
        "            l += i\n",
        "        else:\n",
        "            # evaluate as a list\n",
        "            l += ast.literal_eval(i)\n",
        "\n",
        "    return l"
      ]
    },
    {
      "cell_type": "code",
      "execution_count": 16,
      "metadata": {
        "id": "MEjH4GDxFl6l"
      },
      "outputs": [],
      "source": [
        "def column_conversion(col, df):\n",
        "    \"\"\"\n",
        "    Merge a pandas series with data like list of dict back to the dataframe\n",
        "\n",
        "    Input:\n",
        "    \"[{'one': 1, 'two': 2, 'three': 3}]\"\n",
        "\n",
        "    Output:\n",
        "    A dataframe with the original column removed, each dict's key in a new column\n",
        "    \"\"\"\n",
        "    l = to_list_of_dict(df[col])  # convert to list of dict\n",
        "    df_right = pd.DataFrame.from_dict(l)  # convert to df\n",
        "    df_merged = df.merge(df_right.add_prefix(col+'_'),  # add the original column name as prefix\n",
        "                         left_index=True, right_index=True)  # merge df with df_right\n",
        "    df_merged.drop(col, axis=1, inplace=True) # drop the original column\n",
        "\n",
        "    \n",
        "    return df_merged"
      ]
    },
    {
      "cell_type": "code",
      "execution_count": 17,
      "metadata": {
        "colab": {
          "base_uri": "https://localhost:8080/",
          "height": 261
        },
        "id": "SpjV_noRF06l",
        "outputId": "f670baa5-24ab-44a7-d11b-1fedc61f92ec"
      },
      "outputs": [
        {
          "data": {
            "text/html": [
              "<div>\n",
              "<style scoped>\n",
              "    .dataframe tbody tr th:only-of-type {\n",
              "        vertical-align: middle;\n",
              "    }\n",
              "\n",
              "    .dataframe tbody tr th {\n",
              "        vertical-align: top;\n",
              "    }\n",
              "\n",
              "    .dataframe thead th {\n",
              "        text-align: right;\n",
              "    }\n",
              "</style>\n",
              "<table border=\"1\" class=\"dataframe\">\n",
              "  <thead>\n",
              "    <tr style=\"text-align: right;\">\n",
              "      <th></th>\n",
              "      <th>adult</th>\n",
              "      <th>belongs_to_collection</th>\n",
              "      <th>budget</th>\n",
              "      <th>homepage</th>\n",
              "      <th>id</th>\n",
              "      <th>imdb_id</th>\n",
              "      <th>original_language</th>\n",
              "      <th>original_title</th>\n",
              "      <th>overview</th>\n",
              "      <th>popularity</th>\n",
              "      <th>...</th>\n",
              "      <th>runtime</th>\n",
              "      <th>spoken_languages</th>\n",
              "      <th>status</th>\n",
              "      <th>tagline</th>\n",
              "      <th>title</th>\n",
              "      <th>video</th>\n",
              "      <th>vote_average</th>\n",
              "      <th>vote_count</th>\n",
              "      <th>genres_id</th>\n",
              "      <th>genres_name</th>\n",
              "    </tr>\n",
              "  </thead>\n",
              "  <tbody>\n",
              "    <tr>\n",
              "      <th>0</th>\n",
              "      <td>False</td>\n",
              "      <td>Toy Story Collection</td>\n",
              "      <td>30000000</td>\n",
              "      <td>http://toystory.disney.com/toy-story</td>\n",
              "      <td>862</td>\n",
              "      <td>tt0114709</td>\n",
              "      <td>en</td>\n",
              "      <td>Toy Story</td>\n",
              "      <td>Led by Woody, Andy's toys live happily in his ...</td>\n",
              "      <td>21.946943</td>\n",
              "      <td>...</td>\n",
              "      <td>81.0</td>\n",
              "      <td>[{'iso_639_1': 'en', 'name': 'English'}]</td>\n",
              "      <td>Released</td>\n",
              "      <td>NaN</td>\n",
              "      <td>Toy Story</td>\n",
              "      <td>False</td>\n",
              "      <td>7.7</td>\n",
              "      <td>5415.0</td>\n",
              "      <td>16</td>\n",
              "      <td>Animation</td>\n",
              "    </tr>\n",
              "  </tbody>\n",
              "</table>\n",
              "<p>1 rows × 25 columns</p>\n",
              "</div>"
            ],
            "text/plain": [
              "   adult belongs_to_collection    budget  \\\n",
              "0  False  Toy Story Collection  30000000   \n",
              "\n",
              "                               homepage   id    imdb_id original_language  \\\n",
              "0  http://toystory.disney.com/toy-story  862  tt0114709                en   \n",
              "\n",
              "  original_title                                           overview  \\\n",
              "0      Toy Story  Led by Woody, Andy's toys live happily in his ...   \n",
              "\n",
              "  popularity  ... runtime                          spoken_languages    status  \\\n",
              "0  21.946943  ...    81.0  [{'iso_639_1': 'en', 'name': 'English'}]  Released   \n",
              "\n",
              "  tagline      title  video vote_average vote_count genres_id genres_name  \n",
              "0     NaN  Toy Story  False          7.7     5415.0        16   Animation  \n",
              "\n",
              "[1 rows x 25 columns]"
            ]
          },
          "execution_count": 17,
          "metadata": {},
          "output_type": "execute_result"
        }
      ],
      "source": [
        "# Test\n",
        "column_conversion(cols[0], df_raw1)[:1]\n"
      ]
    },
    {
      "cell_type": "code",
      "execution_count": 19,
      "metadata": {
        "id": "_-Pu3Qi6GiVR"
      },
      "outputs": [],
      "source": [
        "# Guardar el DataFrame en un archivo CSV\n",
        "df_raw1.to_csv('movies_dataset.csv', index=False)"
      ]
    }
  ],
  "metadata": {
    "colab": {
      "provenance": []
    },
    "kernelspec": {
      "display_name": "Python 3",
      "name": "python3"
    },
    "language_info": {
      "codemirror_mode": {
        "name": "ipython",
        "version": 3
      },
      "file_extension": ".py",
      "mimetype": "text/x-python",
      "name": "python",
      "nbconvert_exporter": "python",
      "pygments_lexer": "ipython3",
      "version": "3.8.8rc1"
    }
  },
  "nbformat": 4,
  "nbformat_minor": 0
}
