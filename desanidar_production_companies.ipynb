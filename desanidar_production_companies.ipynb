{
  "cells": [
    {
      "cell_type": "code",
      "execution_count": 1,
      "metadata": {
        "id": "ppWwZlBukyJU"
      },
      "outputs": [],
      "source": [
        "import pandas as pd\n",
        "import ast\n",
        "import numpy as np"
      ]
    },
    {
      "cell_type": "code",
      "execution_count": 2,
      "metadata": {},
      "outputs": [
        {
          "name": "stdout",
          "output_type": "stream",
          "text": [
            "c:\\Users\\Pc - Jujuy\\Desktop\\proyercto individual23\\PI_ML_OPS\n"
          ]
        }
      ],
      "source": [
        "import os\n",
        "print(os.getcwd())"
      ]
    },
    {
      "cell_type": "code",
      "execution_count": 3,
      "metadata": {},
      "outputs": [],
      "source": [
        "#Leer el archivo Excel \n",
        "file_path = \"movies_dataset11.xlsx\"\n",
        "df_raw = pd.read_excel(file_path)"
      ]
    },
    {
      "cell_type": "code",
      "execution_count": 4,
      "metadata": {
        "colab": {
          "base_uri": "https://localhost:8080/"
        },
        "id": "rl5cRncbrprM",
        "outputId": "fd8bad7c-d6d0-4105-ef9d-a527521fea95"
      },
      "outputs": [
        {
          "name": "stdout",
          "output_type": "stream",
          "text": [
            "0                   Pixar Animation Studios\n",
            "1                          TriStar Pictures\n",
            "2                              Warner Bros.\n",
            "3    Twentieth Century Fox Film Corporation\n",
            "4                     Sandollar Productions\n",
            "Name: production_companies, dtype: object\n"
          ]
        }
      ],
      "source": [
        "print(df_raw['production_companies'].head())"
      ]
    },
    {
      "cell_type": "code",
      "execution_count": 5,
      "metadata": {
        "id": "atlk-6tRno0J"
      },
      "outputs": [
        {
          "ename": "SyntaxError",
          "evalue": "invalid syntax (<unknown>, line 1)",
          "output_type": "error",
          "traceback": [
            "Traceback \u001b[1;36m(most recent call last)\u001b[0m:\n",
            "\u001b[0m  File \u001b[0;32m~\\AppData\\Roaming\\Python\\Python38\\site-packages\\IPython\\core\\interactiveshell.py:3508\u001b[0m in \u001b[0;35mrun_code\u001b[0m\n    exec(code_obj, self.user_global_ns, self.user_ns)\u001b[0m\n",
            "\u001b[0m  Cell \u001b[0;32mIn[5], line 16\u001b[0m\n    df_raw['production_companies'] = df_raw['production_companies'].apply(extraer_collection_name)\u001b[0m\n",
            "\u001b[0m  File \u001b[0;32mc:\\Users\\Pc - Jujuy\\AppData\\Local\\Programs\\Python\\Python38\\lib\\site-packages\\pandas\\core\\series.py:4357\u001b[0m in \u001b[0;35mapply\u001b[0m\n    return SeriesApply(self, func, convert_dtype, args, kwargs).apply()\u001b[0m\n",
            "\u001b[0m  File \u001b[0;32mc:\\Users\\Pc - Jujuy\\AppData\\Local\\Programs\\Python\\Python38\\lib\\site-packages\\pandas\\core\\apply.py:1043\u001b[0m in \u001b[0;35mapply\u001b[0m\n    return self.apply_standard()\u001b[0m\n",
            "\u001b[0m  File \u001b[0;32mc:\\Users\\Pc - Jujuy\\AppData\\Local\\Programs\\Python\\Python38\\lib\\site-packages\\pandas\\core\\apply.py:1098\u001b[0m in \u001b[0;35mapply_standard\u001b[0m\n    mapped = lib.map_infer(\u001b[0m\n",
            "\u001b[0m  File \u001b[0;32mpandas\\_libs\\lib.pyx:2859\u001b[0m in \u001b[0;35mpandas._libs.lib.map_infer\u001b[0m\n",
            "\u001b[0m  Cell \u001b[0;32mIn[5], line 6\u001b[0m in \u001b[0;35mextraer_collection_name\u001b[0m\n    collection_list = ast.literal_eval(collection)\u001b[0m\n",
            "\u001b[0m  File \u001b[0;32mc:\\Users\\Pc - Jujuy\\AppData\\Local\\Programs\\Python\\Python38\\lib\\ast.py:59\u001b[0m in \u001b[0;35mliteral_eval\u001b[0m\n    node_or_string = parse(node_or_string, mode='eval')\u001b[0m\n",
            "\u001b[1;36m  File \u001b[1;32mc:\\Users\\Pc - Jujuy\\AppData\\Local\\Programs\\Python\\Python38\\lib\\ast.py:47\u001b[1;36m in \u001b[1;35mparse\u001b[1;36m\n\u001b[1;33m    return compile(source, filename, mode, flags,\u001b[1;36m\n",
            "\u001b[1;36m  File \u001b[1;32m<unknown>:1\u001b[1;36m\u001b[0m\n\u001b[1;33m    Pixar Animation Studios\u001b[0m\n\u001b[1;37m          ^\u001b[0m\n\u001b[1;31mSyntaxError\u001b[0m\u001b[1;31m:\u001b[0m invalid syntax\n"
          ]
        }
      ],
      "source": [
        "def extraer_collection_name(collection):\n",
        "    if pd.isnull(collection):\n",
        "        return np.nan\n",
        "    else:\n",
        "        try:\n",
        "            collection_list = ast.literal_eval(collection)\n",
        "            if isinstance(collection_list, list) and len(collection_list) > 0:\n",
        "                return collection_list[0]['name']\n",
        "            else:\n",
        "                return np.nan\n",
        "        except (ValueError, TypeError, KeyError, IndexError):\n",
        "            return np.nan\n",
        "\n",
        "\n",
        "# Aplicar la función a 'production_companies'\n",
        "df_raw['production_companies'] = df_raw['production_companies'].apply(extraer_collection_name)\n",
        "\n",
        "# Mostrar el primer registro del DataFrame para verificar los cambios\n",
        "print(df_raw.head(1))\n"
      ]
    },
    {
      "cell_type": "code",
      "execution_count": 6,
      "metadata": {
        "colab": {
          "base_uri": "https://localhost:8080/"
        },
        "id": "Z1SLxFslqXuu",
        "outputId": "ee9f9399-be16-43c2-8dda-cdb7da7a5c98"
      },
      "outputs": [
        {
          "data": {
            "text/plain": [
              "array(['adult', 'belongs_to_collection', 'budget', 'genres', 'homepage',\n",
              "       'id', 'imdb_id', 'original_language', 'original_title', 'overview',\n",
              "       'popularity', 'poster_path', 'production_companies',\n",
              "       'production_countries', 'release_date', 'revenue', 'runtime',\n",
              "       'spoken_languages', 'status', 'tagline', 'title', 'video',\n",
              "       'vote_average', 'vote_count'], dtype=object)"
            ]
          },
          "execution_count": 6,
          "metadata": {},
          "output_type": "execute_result"
        }
      ],
      "source": [
        "columns_names = df_raw.columns.values\n",
        "columns_names"
      ]
    },
    {
      "cell_type": "code",
      "execution_count": 7,
      "metadata": {},
      "outputs": [
        {
          "name": "stdout",
          "output_type": "stream",
          "text": [
            "0                   Pixar Animation Studios\n",
            "1                          TriStar Pictures\n",
            "2                              Warner Bros.\n",
            "3    Twentieth Century Fox Film Corporation\n",
            "4                     Sandollar Productions\n",
            "Name: production_companies, dtype: object\n"
          ]
        }
      ],
      "source": [
        "print(df_raw['production_companies'].head(5))"
      ]
    },
    {
      "cell_type": "code",
      "execution_count": 8,
      "metadata": {
        "id": "VCqrHZVvtsh1"
      },
      "outputs": [],
      "source": [
        "df_raw.to_excel('movies_dataset11.xlsx', index=False)\n"
      ]
    },
    {
      "cell_type": "code",
      "execution_count": 9,
      "metadata": {},
      "outputs": [
        {
          "name": "stdout",
          "output_type": "stream",
          "text": [
            "0                   Pixar Animation Studios\n",
            "1                          TriStar Pictures\n",
            "2                              Warner Bros.\n",
            "3    Twentieth Century Fox Film Corporation\n",
            "4                     Sandollar Productions\n",
            "Name: production_companies, dtype: object\n"
          ]
        }
      ],
      "source": [
        "print(df_raw['production_companies'].head(5))"
      ]
    }
  ],
  "metadata": {
    "colab": {
      "provenance": []
    },
    "kernelspec": {
      "display_name": "Python 3",
      "name": "python3"
    },
    "language_info": {
      "codemirror_mode": {
        "name": "ipython",
        "version": 3
      },
      "file_extension": ".py",
      "mimetype": "text/x-python",
      "name": "python",
      "nbconvert_exporter": "python",
      "pygments_lexer": "ipython3",
      "version": "3.8.8rc1"
    }
  },
  "nbformat": 4,
  "nbformat_minor": 0
}
